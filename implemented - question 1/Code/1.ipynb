{
 "cells": [
  {
   "cell_type": "code",
   "execution_count": 1,
   "metadata": {},
   "outputs": [],
   "source": [
    "import numpy as np\n",
    "import copy"
   ]
  },
  {
   "cell_type": "code",
   "execution_count": 2,
   "metadata": {},
   "outputs": [],
   "source": [
    "file_pth = './data.txt'"
   ]
  },
  {
   "cell_type": "code",
   "execution_count": 3,
   "metadata": {},
   "outputs": [],
   "source": [
    "def read_file(path):\n",
    "    data = []\n",
    "    with open(path) as file:\n",
    "        for row in file:\n",
    "            data.append(np.array(row.split(),dtype=\"str\"))\n",
    "    return data"
   ]
  },
  {
   "cell_type": "code",
   "execution_count": 4,
   "metadata": {},
   "outputs": [],
   "source": [
    "file = np.array(read_file(file_pth))\n",
    "DATA = file[1:]\n",
    "features = file[0][:-1]"
   ]
  },
  {
   "cell_type": "code",
   "execution_count": 5,
   "metadata": {},
   "outputs": [
    {
     "data": {
      "text/plain": [
       "array(['buy', 'coffeeshop', 'home', 'mountaineer'], dtype='<U11')"
      ]
     },
     "execution_count": 5,
     "metadata": {},
     "output_type": "execute_result"
    }
   ],
   "source": [
    "np.unique(DATA[:,-1])"
   ]
  },
  {
   "cell_type": "code",
   "execution_count": 6,
   "metadata": {},
   "outputs": [
    {
     "data": {
      "text/plain": [
       "array([['sunny', 'True', 'False', 'buy'],\n",
       "       ['sunny', 'True', 'True', 'coffeeshop'],\n",
       "       ['snowy', 'True', 'False', 'coffeeshop'],\n",
       "       ['sunny', 'True', 'True', 'mountaineer'],\n",
       "       ['rainy', 'True', 'True', 'home'],\n",
       "       ['sunny', 'False', 'False', 'mountaineer'],\n",
       "       ['sunny', 'True', 'False', 'mountaineer'],\n",
       "       ['rainy', 'True', 'True', 'coffeeshop'],\n",
       "       ['snowy', 'True', 'True', 'buy'],\n",
       "       ['snowy', 'False', 'True', 'home']], dtype='<U11')"
      ]
     },
     "execution_count": 6,
     "metadata": {},
     "output_type": "execute_result"
    }
   ],
   "source": [
    "DATA"
   ]
  },
  {
   "cell_type": "code",
   "execution_count": 7,
   "metadata": {},
   "outputs": [],
   "source": [
    "class DecisionTree():\n",
    "    def __init__(self,DATA,features):\n",
    "        self.data = copy.deepcopy(DATA)\n",
    "        self.features = features\n",
    "        self.rules = []\n",
    "        self.tree = []\n",
    "        \n",
    "        self.calc_tree(self.data,[i for i in range(self.data.shape[1]-1)])\n",
    "        self.print_tree()\n",
    "\n",
    "    def calc_tree(self,data,columns):\n",
    "        # check single result\n",
    "        if(len(np.unique(data[:,-1])) <= 1):\n",
    "           self.tree.append(\"$\")\n",
    "           self.tree.append(np.unique(data[:,-1])[0])\n",
    "           return 0\n",
    "        \n",
    "        # check no feature\n",
    "        if(columns == 0):\n",
    "            vals , count = np.unique(data[:,-1] , return_counts=True)\n",
    "            res = \"\"\n",
    "            for i in range(len(vals)):\n",
    "                res += vals[i]\n",
    "                res += \" : \"\n",
    "                res += str(count[i]/np.sum(count)*100)\n",
    "                res += \"%\\t\"\n",
    "            self.tree.append(\"$\")\n",
    "            self.tree.append(res)\n",
    "            return 0\n",
    "        \n",
    "        column = copy.deepcopy(columns)\n",
    "        data_size = data.shape[0]\n",
    "        best_entropy = self.Entropy(data)\n",
    "        best_index = -1\n",
    "\n",
    "        for i in column:\n",
    "            a = data[data[:, i].argsort()]\n",
    "            splited_data = np.split(a[:,:], np.unique(a[:,i], return_index=True)[1][0:])\n",
    "            entropy = 0\n",
    "\n",
    "            for x in splited_data:\n",
    "                try:\n",
    "                    entropy += (len(x) / data_size ) * self.Entropy(x)\n",
    "                except:\n",
    "                    pass\n",
    "            if(entropy < best_entropy ):\n",
    "                best_entropy = entropy\n",
    "                best_index = i\n",
    "            \n",
    "        if(best_index != -1 ):\n",
    "            a = data[data[:, best_index].argsort()]\n",
    "            vals = np.unique(data[:,best_index])\n",
    "            a = np.split(a[:,:], np.unique(a[:,best_index], return_index=True)[1][0:])[1:]\n",
    "            column.remove(best_index)\n",
    "            self.tree.append(\">\")\n",
    "            self.tree.append(best_index)\n",
    "            self.tree.append(\":\")\n",
    "\n",
    "            for i in range(len(a)):\n",
    "                self.tree.append(vals[i])\n",
    "\n",
    "                self.calc_tree(a[i],column)\n",
    "            self.tree.append(\"<\")\n",
    "        else:\n",
    "            vals , count = np.unique(data[:,-1] , return_counts=True)\n",
    "            res = \"\"\n",
    "            for i in range(len(vals)):\n",
    "                res += vals[i]\n",
    "                res += \" : \"\n",
    "                res += str(count[i]/np.sum(count)*100)\n",
    "                res += \"%\\t\"\n",
    "            self.tree.append(\"$\")\n",
    "            self.tree.append(res)\n",
    "    \n",
    "    def Entropy(delf,data):\n",
    "        _ , count = np.unique(data[:,-1],return_counts=True)\n",
    "        count = count / np.sum(count)\n",
    "        entropy = np.multiply(count,np.log2(count))\n",
    "        total_entropy = -np.sum(entropy)\n",
    "        return total_entropy\n",
    "    \n",
    "    def print_tree(self):\n",
    "        i = 0\n",
    "        flag = 0\n",
    "        for x in self.tree:\n",
    "            if(x == \">\"):\n",
    "                # i +=1\n",
    "                flag = 1\n",
    "            elif(x == \"<\"):\n",
    "                i -= 1\n",
    "                print(\"\\t\"*i,\"}\")\n",
    "            elif(x == \":\"):\n",
    "                i += 1\n",
    "            elif(x == \"$\"):\n",
    "                i += 1\n",
    "                flag = 2\n",
    "            else:\n",
    "                if(flag == 1):\n",
    "                    print(\"\\t\"*i,\"-\" ,self.features[x] , \" { \")\n",
    "                elif(flag == 2):\n",
    "                    print(\"\\t\"*i,x)\n",
    "                    i -= 1\n",
    "                else:\n",
    "                    print(\"\\t\"*i ,x,\" : \")\n",
    "                flag = 0\n",
    "\n",
    "    \n",
    "    def extract_rules(self,tree,rule):\n",
    "        if(len(tree) == 0):\n",
    "            return 1\n",
    "\n",
    "\n",
    "        if(tree[0] == '>'):\n",
    "            tree.remove('>')\n",
    "            key = tree[0]\n",
    "            tree.remove(':')\n",
    "            val = tree[1]\n",
    "            tree.remove(tree[0])\n",
    "            tree.remove(tree[0])\n",
    "            next_rule = copy.deepcopy(rule)\n",
    "            next_rule.append(key)\n",
    "            next_rule.append(val)\n",
    "            self.extract_rules(copy.deepcopy(tree),next_rule)\n",
    "        \n",
    "        elif(tree[0] == '$'):\n",
    "            tree.remove(tree[0])\n",
    "            val = tree[0]\n",
    "            tree.remove(tree[0])\n",
    "            next_rule = copy.deepcopy(rule)\n",
    "            next_rule.append(val)\n",
    "            self.rules.append(next_rule)\n",
    "            rule.pop()\n",
    "            self.extract_rules(copy.deepcopy(tree),rule)\n",
    "           \n",
    "\n",
    "        elif(tree[0] == '<'):\n",
    "            if(len(tree) > 1 and type(tree[1]) != int):\n",
    "                rule.pop()\n",
    "            rule.pop()\n",
    "            tree.remove(tree[0])\n",
    "            self.extract_rules(copy.deepcopy(tree),rule)\n",
    "\n",
    "        else:\n",
    "            val = tree[0]\n",
    "            tree.remove(val)\n",
    "            next_rule = copy.deepcopy(rule)\n",
    "            next_rule.append(val)\n",
    "            self.extract_rules(tree,next_rule)\n",
    "           \n",
    "\n",
    "\n",
    "    def print_rules(self):\n",
    "        for rule in self.rules:\n",
    "            rule_size = len(rule)\n",
    "            i = 0\n",
    "            while(i<rule_size-3):\n",
    "                print(f\"if ( {self.features[rule[i]]} == {rule[i+1]} ) and \" ,end=\"\" )\n",
    "                i += 2\n",
    "            print(f\"if ( {self.features[rule[i]]} == {rule[i+1]} ) then {rule[i+2]}\")\n",
    "            \n",
    "\n",
    "            \n"
   ]
  },
  {
   "cell_type": "code",
   "execution_count": 8,
   "metadata": {},
   "outputs": [
    {
     "name": "stdout",
     "output_type": "stream",
     "text": [
      " - weather  { \n",
      "\t rainy  : \n",
      "\t\t coffeeshop : 50.0%\thome : 50.0%\t\n",
      "\t snowy  : \n",
      "\t - has_money  { \n",
      "\t\t False  : \n",
      "\t\t\t home\n",
      "\t\t True  : \n",
      "\t\t - exam  { \n",
      "\t\t\t False  : \n",
      "\t\t\t\t coffeeshop\n",
      "\t\t\t True  : \n",
      "\t\t\t\t buy\n",
      "\t\t }\n",
      "\t }\n",
      "\t sunny  : \n",
      "\t - exam  { \n",
      "\t\t False  : \n",
      "\t\t - has_money  { \n",
      "\t\t\t False  : \n",
      "\t\t\t\t mountaineer\n",
      "\t\t\t True  : \n",
      "\t\t\t\t buy : 50.0%\tmountaineer : 50.0%\t\n",
      "\t\t }\n",
      "\t\t True  : \n",
      "\t\t\t coffeeshop : 50.0%\tmountaineer : 50.0%\t\n",
      "\t }\n",
      " }\n"
     ]
    }
   ],
   "source": [
    "dt = DecisionTree(DATA,features)"
   ]
  },
  {
   "cell_type": "code",
   "execution_count": 9,
   "metadata": {},
   "outputs": [
    {
     "name": "stdout",
     "output_type": "stream",
     "text": [
      "if ( weather == rainy ) then coffeeshop : 50.0%\thome : 50.0%\t\n",
      "if ( weather == snowy ) and if ( has_money == False ) then home\n",
      "if ( weather == snowy ) and if ( has_money == True ) and if ( exam == False ) then coffeeshop\n",
      "if ( weather == snowy ) and if ( has_money == True ) and if ( exam == True ) then buy\n",
      "if ( weather == sunny ) and if ( exam == False ) and if ( has_money == False ) then mountaineer\n",
      "if ( weather == sunny ) and if ( exam == False ) and if ( has_money == True ) then buy : 50.0%\tmountaineer : 50.0%\t\n",
      "if ( weather == sunny ) and if ( exam == True ) then coffeeshop : 50.0%\tmountaineer : 50.0%\t\n"
     ]
    }
   ],
   "source": [
    "dt.extract_rules(copy.deepcopy(dt.tree),[])\n",
    "dt.print_rules()"
   ]
  }
 ],
 "metadata": {
  "kernelspec": {
   "display_name": "Python 3",
   "language": "python",
   "name": "python3"
  },
  "language_info": {
   "codemirror_mode": {
    "name": "ipython",
    "version": 3
   },
   "file_extension": ".py",
   "mimetype": "text/x-python",
   "name": "python",
   "nbconvert_exporter": "python",
   "pygments_lexer": "ipython3",
   "version": "3.10.7"
  },
  "orig_nbformat": 4,
  "vscode": {
   "interpreter": {
    "hash": "114067fc0f372de1d09e6032eb12f72f309396567ef129ebb31a527ac014185f"
   }
  }
 },
 "nbformat": 4,
 "nbformat_minor": 2
}
